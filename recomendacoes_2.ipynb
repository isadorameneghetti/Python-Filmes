{
 "cells": [
  {
   "cell_type": "code",
   "execution_count": 1,
   "metadata": {},
   "outputs": [],
   "source": [
    "# Bibliotecas utlizadas\n",
    "import pandas as pd\n",
    "from sklearn.decomposition import TruncatedSVD\n",
    "from sklearn.metrics.pairwise import cosine_similarity"
   ]
  },
  {
   "cell_type": "code",
   "execution_count": 2,
   "metadata": {},
   "outputs": [],
   "source": [
    "# Dataset de avaliações de filmes\n",
    "avaliacoes = pd.read_csv('ml-100k/u.data', sep='\\t', names=['id_usuario', 'id_filme', 'avaliacao', 'timestamp'])"
   ]
  },
  {
   "cell_type": "code",
   "execution_count": 3,
   "metadata": {},
   "outputs": [],
   "source": [
    "# Dataset dos dados dos filmes\n",
    "filmes = pd.read_csv('ml-100k/u.item', sep='|', encoding='ISO-8859-1', header=None, usecols=[0, 1], names=['id_filme', 'titulo_filme'])\n"
   ]
  },
  {
   "cell_type": "code",
   "execution_count": 11,
   "metadata": {},
   "outputs": [],
   "source": [
    "# Mesclar os dois dataframes para incluir os títulos dos filmes\n",
    "dados = pd.merge(avaliacoes, filmes, on='id_filme')\n"
   ]
  },
  {
   "cell_type": "code",
   "execution_count": 12,
   "metadata": {},
   "outputs": [],
   "source": [
    "# Matriz (usuário por filme)\n",
    "matriz_usuario_filme = dados.pivot_table(index='id_usuario', columns='titulo_filme', values='avaliacao', aggfunc='mean').fillna(0)"
   ]
  },
  {
   "cell_type": "code",
   "execution_count": 14,
   "metadata": {},
   "outputs": [],
   "source": [
    "# SVD (reduz dimensionalidade da matriz)\n",
    "svd = TruncatedSVD(n_components=50)  # 50 componentes\n",
    "matriz_reduzida = svd.fit_transform(matriz_usuario_filme)"
   ]
  },
  {
   "cell_type": "code",
   "execution_count": 15,
   "metadata": {},
   "outputs": [],
   "source": [
    "# Similaridade entre usuários usando a similaridade do cosseno\n",
    "similaridade_usuarios = cosine_similarity(matriz_reduzida)"
   ]
  },
  {
   "cell_type": "code",
   "execution_count": 16,
   "metadata": {},
   "outputs": [],
   "source": [
    "# Função para recomendar filmes\n",
    "def recomendar_filmes(indice_usuario, n_recomendacoes=5):\n",
    "    # Encontrar os usuários mais semelhantes ao usuário fornecido\n",
    "    usuarios_semelhantes = similaridade_usuarios[indice_usuario].argsort()[::-1][1:]  \n",
    "    \n",
    "    # Filmes recomendados com base em usuários semelhantes\n",
    "    filmes_recomendados = []\n",
    "    for usuario_semelhante in usuarios_semelhantes:\n",
    "        # Filmes que o usuário semelhante assistiu e o usuário atual não assistiu\n",
    "        filmes_assistidos_usuario = matriz_usuario_filme.columns[matriz_usuario_filme.iloc[usuario_semelhante] > 0]\n",
    "        filmes_assistidos_alvo = matriz_usuario_filme.columns[matriz_usuario_filme.iloc[indice_usuario] > 0]\n",
    "        novas_recomendacoes = set(filmes_assistidos_usuario) - set(filmes_assistidos_alvo)\n",
    "        \n",
    "        filmes_recomendados.extend(novas_recomendacoes)\n",
    "        if len(filmes_recomendados) >= n_recomendacoes:\n",
    "            break\n",
    "    \n",
    "    return list(filmes_recomendados)[:n_recomendacoes]"
   ]
  },
  {
   "cell_type": "code",
   "execution_count": 19,
   "metadata": {},
   "outputs": [
    {
     "name": "stdout",
     "output_type": "stream",
     "text": [
      "Recomendações de filmes para o usuário 32: ['Toy Story (1995)', 'Bound (1996)', 'Johnny 100 Pesos (1993)', 'One Fine Day (1996)', 'Four Rooms (1995)']\n"
     ]
    }
   ],
   "source": [
    "# Teste (usuário 1)\n",
    "indice_usuario = 0  # usuário 1\n",
    "recomendacoes = recomendar_filmes(indice_usuario, n_recomendacoes=5)\n",
    "\n",
    "print(f\"Recomendações de filmes para o usuário {indice_usuario + 1}: {recomendacoes}\")\n"
   ]
  }
 ],
 "metadata": {
  "kernelspec": {
   "display_name": "Python 3",
   "language": "python",
   "name": "python3"
  },
  "language_info": {
   "codemirror_mode": {
    "name": "ipython",
    "version": 3
   },
   "file_extension": ".py",
   "mimetype": "text/x-python",
   "name": "python",
   "nbconvert_exporter": "python",
   "pygments_lexer": "ipython3",
   "version": "3.12.6"
  }
 },
 "nbformat": 4,
 "nbformat_minor": 2
}
