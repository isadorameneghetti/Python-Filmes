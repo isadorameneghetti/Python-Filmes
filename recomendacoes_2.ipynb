{
 "cells": [
  {
   "cell_type": "code",
   "execution_count": 33,
   "metadata": {},
   "outputs": [],
   "source": [
    "# Bibliotecas utlizadas\n",
    "import pandas as pd\n",
    "import random\n",
    "from sklearn.feature_extraction.text import TfidfVectorizer\n",
    "from sklearn.metrics.pairwise import cosine_similarity\n",
    "from sklearn.decomposition import TruncatedSVD"
   ]
  },
  {
   "cell_type": "code",
   "execution_count": 34,
   "metadata": {},
   "outputs": [],
   "source": [
    "# Carregar os dados do MovieLens\n",
    "dados_avaliacoes = pd.read_csv('ml-100k/u.data', sep='\\t', header=None, names=['id_usuario', 'id_filme', 'avaliacao', 'timestamp'])\n",
    "dados_filmes = pd.read_csv('ml-100k/u.item', sep='|', encoding='ISO-8859-1', header=None, usecols=[0, 1], names=['id_filme', 'titulo_filme'])\n"
   ]
  },
  {
   "cell_type": "code",
   "execution_count": 35,
   "metadata": {},
   "outputs": [],
   "source": [
    "# Gêneros aleatórios para cada filme\n",
    "generos_possiveis = ['Ação', 'Aventura', 'Drama', 'Comédia', 'Terror', 'Romance', 'Sci-Fi', 'Documentário']\n",
    "dados_filmes['genero'] = [random.choice(generos_possiveis) for _ in range(len(dados_filmes))]"
   ]
  },
  {
   "cell_type": "code",
   "execution_count": 36,
   "metadata": {},
   "outputs": [],
   "source": [
    "# Junção de avaliações e filmes\n",
    "dados = pd.merge(dados_avaliacoes, dados_filmes, on='id_filme')"
   ]
  },
  {
   "cell_type": "code",
   "execution_count": 37,
   "metadata": {},
   "outputs": [],
   "source": [
    "# Remover duplicatas\n",
    "dados = dados.groupby(['id_usuario', 'id_filme', 'titulo_filme'], as_index=False).agg({'avaliacao': 'mean'})"
   ]
  },
  {
   "cell_type": "code",
   "execution_count": 38,
   "metadata": {},
   "outputs": [],
   "source": [
    "# Matriz usuário-filme\n",
    "matriz_usuario_filme = dados.pivot_table(index='id_usuario', columns='titulo_filme', values='avaliacao', fill_value=0)"
   ]
  },
  {
   "cell_type": "code",
   "execution_count": 39,
   "metadata": {},
   "outputs": [],
   "source": [
    "# SVD (reduz dimensionalidade da matriz)\n",
    "svd = TruncatedSVD(n_components=50)  # 50 componentes\n",
    "matriz_reduzida = svd.fit_transform(matriz_usuario_filme)"
   ]
  },
  {
   "cell_type": "code",
   "execution_count": 40,
   "metadata": {},
   "outputs": [],
   "source": [
    "# Similaridade entre usuários usando a similaridade do cosseno\n",
    "similaridade_usuarios = cosine_similarity(matriz_reduzida)"
   ]
  },
  {
   "cell_type": "code",
   "execution_count": 41,
   "metadata": {},
   "outputs": [],
   "source": [
    "# Vetorização TF-IDF para gêneros de filmes\n",
    "vetorizador_tfidf = TfidfVectorizer()\n",
    "matriz_tfidf_generos = vetorizador_tfidf.fit_transform(dados_filmes['genero'])"
   ]
  },
  {
   "cell_type": "code",
   "execution_count": 42,
   "metadata": {},
   "outputs": [],
   "source": [
    "# Similaridade entre filmes usando a similaridade do cosseno\n",
    "similaridade_filmes = cosine_similarity(matriz_tfidf_generos)"
   ]
  },
  {
   "cell_type": "code",
   "execution_count": 43,
   "metadata": {},
   "outputs": [],
   "source": [
    "# Função para recomendar filmes\n",
    "def recomendar_filmes_usuario(indice_usuario, n_recomendacoes=5):\n",
    "    # Obter índices dos filmes que o usuário avaliou\n",
    "    filmes_avaliados = matriz_usuario_filme.iloc[indice_usuario]\n",
    "    filmes_avaliados_idx = filmes_avaliados[filmes_avaliados > 0].index.tolist()\n",
    "\n",
    "    # Obter similaridade dos usuários\n",
    "    indices_similares = similaridade_usuarios[indice_usuario].argsort()[::-1][1:n_recomendacoes + 1]\n",
    "\n",
    "    # Obter recomendações baseadas em filmes avaliados por usuários similares\n",
    "    recomendacoes = pd.Series(dtype='float64')\n",
    "    for indice in indices_similares:\n",
    "        filmes_similares = matriz_usuario_filme.iloc[indice]\n",
    "        recomendacoes = pd.concat([recomendacoes, filmes_similares[filmes_similares > 0]])\n",
    "\n",
    "    # Filtrar recomendações com base nos filmes já avaliados pelo usuário\n",
    "    recomendacoes = recomendacoes[~recomendacoes.index.isin(filmes_avaliados_idx)]\n",
    "    recomendacoes = recomendacoes.groupby(recomendacoes.index).mean().nlargest(n_recomendacoes)\n",
    "\n",
    "    return recomendacoes.index.tolist()"
   ]
  },
  {
   "cell_type": "code",
   "execution_count": 44,
   "metadata": {},
   "outputs": [],
   "source": [
    "# Função para recomendações híbridas\n",
    "def recomendar_filmes_hibrido(indice_usuario, n_recomendacoes=5):\n",
    "    # Recomendação por filtragem colaborativa\n",
    "    recomendacoes_colaborativas = recomendar_filmes_usuario(indice_usuario, n_recomendacoes)\n",
    "\n",
    "    # Obter os filmes recomendados\n",
    "    indices_filmes_recomendados = [dados_filmes[dados_filmes['titulo_filme'] == filme].index[0] for filme in recomendacoes_colaborativas]\n",
    "\n",
    "    # Obter similaridade dos filmes recomendados\n",
    "    similaridade_filmes_recomendados = similaridade_filmes[indices_filmes_recomendados].mean(axis=0)\n",
    "\n",
    "    # Obter recomendações baseadas na similaridade dos filmes recomendados\n",
    "    recomendacoes_hibridas = dados_filmes['titulo_filme'][similaridade_filmes_recomendados.argsort()[::-1][:n_recomendacoes]]\n",
    "\n",
    "    return recomendacoes_hibridas.tolist()"
   ]
  },
  {
   "cell_type": "code",
   "execution_count": 46,
   "metadata": {},
   "outputs": [
    {
     "name": "stdout",
     "output_type": "stream",
     "text": [
      "Recomendações colaborativas: ['Chinatown (1974)', 'Close Shave, A (1995)', 'Dead Man (1995)', 'Ghost in the Shell (Kokaku kidotai) (1995)', 'Hamlet (1996)']\n",
      "Recomendações híbridas: ['Further Gesture, A (1996)', 'Rough Magic (1995)', 'Four Rooms (1995)', \"Brother's Kiss, A (1997)\", 'Sliding Doors (1998)']\n"
     ]
    }
   ],
   "source": [
    "# Teste (usuário 1)\n",
    "usuario_teste = 0\n",
    "recomendacoes_colaborativas = recomendar_filmes_usuario(usuario_teste) # Base no comportamento de usuários semelhantes\n",
    "recomendacoes_hibridas = recomendar_filmes_hibrido(usuario_teste)  # Base no comportamento de características dos filmes\n",
    "\n",
    "\n",
    "print(\"Recomendações colaborativas:\", recomendacoes_colaborativas)\n",
    "print(\"Recomendações híbridas:\", recomendacoes_hibridas)\n"
   ]
  }
 ],
 "metadata": {
  "kernelspec": {
   "display_name": "Python 3",
   "language": "python",
   "name": "python3"
  },
  "language_info": {
   "codemirror_mode": {
    "name": "ipython",
    "version": 3
   },
   "file_extension": ".py",
   "mimetype": "text/x-python",
   "name": "python",
   "nbconvert_exporter": "python",
   "pygments_lexer": "ipython3",
   "version": "3.12.6"
  }
 },
 "nbformat": 4,
 "nbformat_minor": 2
}
