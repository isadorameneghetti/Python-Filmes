{
 "cells": [
  {
   "cell_type": "code",
   "execution_count": 1,
   "metadata": {},
   "outputs": [],
   "source": [
    "# Bibliotecas utlizadas\n",
    "import numpy as np\n",
    "import pandas as pd\n",
    "from sklearn.decomposition import TruncatedSVD\n",
    "from sklearn.metrics.pairwise import cosine_similarity"
   ]
  },
  {
   "cell_type": "code",
   "execution_count": 2,
   "metadata": {},
   "outputs": [],
   "source": [
    "# Conjunto de informações necessárias (id, filme e avaliação de 0 a 5)\n",
    "dados = {\n",
    "    'id_usuario': [1, 1, 1, 2, 2, 2, 3, 3, 3, 4, 4, 4, 5, 5, 5],\n",
    "    'titulo_filme': ['Um Sonho de Liberdade', 'O Poderoso Chefão', 'O Cavaleiro das Trevas', \n",
    "                     'A Origem', 'Matrix', 'Forrest Gump', \n",
    "                     'O Senhor dos Anéis: O Retorno do Rei', 'Interestelar', 'Clube da Luta', \n",
    "                     'Pulp Fiction: Tempo de Violência', 'Gladiador', 'O Rei Leão', \n",
    "                     'Titanic', 'Star Wars: O Império Contra-Ataca', 'Avatar'],\n",
    "    'avaliacao': [5, 5, 4, 5, 4, 3, 4, 5, 5, 4, 3, 4, 5, 5, 4]\n",
    "}\n",
    "\n",
    "# DataFrame dos dados\n",
    "df = pd.DataFrame(dados)"
   ]
  },
  {
   "cell_type": "code",
   "execution_count": 3,
   "metadata": {},
   "outputs": [],
   "source": [
    "# Matriz de usuários (linhas: usuários, colunas: filmes)\n",
    "matriz_usuario_filme = df.pivot(index='id_usuario', columns='titulo_filme', values='avaliacao').fillna(0)"
   ]
  },
  {
   "cell_type": "code",
   "execution_count": 4,
   "metadata": {},
   "outputs": [],
   "source": [
    "# SVD (reduz a dimensionalidade da matriz)\n",
    "svd = TruncatedSVD(n_components=2)  # 2 componentes\n",
    "matriz_reduzida = svd.fit_transform(matriz_usuario_filme)"
   ]
  },
  {
   "cell_type": "code",
   "execution_count": 5,
   "metadata": {},
   "outputs": [],
   "source": [
    "# Similaridade entre usuários usando a similaridade do cosseno\n",
    "similaridade_usuarios = cosine_similarity(matriz_reduzida)"
   ]
  },
  {
   "cell_type": "code",
   "execution_count": 6,
   "metadata": {},
   "outputs": [],
   "source": [
    "# Função para recomendar filmes\n",
    "def recomendar_filmes(indice_usuario, n_recomendacoes=2):\n",
    "    usuarios_semelhantes = similaridade_usuarios[indice_usuario].argsort()[::-1][1:] \n",
    "    \n",
    "    # Filmes recomendados a partir de uma base em usuários semelhantes\n",
    "    filmes_recomendados = []\n",
    "    for usuario_semelhante in usuarios_semelhantes:\n",
    "        # Filmes que o usuário semelhante assistiu e o usuário atual não assistiu\n",
    "        filmes_assistidos_usuario = matriz_usuario_filme.columns[matriz_usuario_filme.iloc[usuario_semelhante] > 0]\n",
    "        filmes_assistidos_alvo = matriz_usuario_filme.columns[matriz_usuario_filme.iloc[indice_usuario] > 0]\n",
    "        novas_recomendacoes = set(filmes_assistidos_usuario) - set(filmes_assistidos_alvo)\n",
    "        \n",
    "        filmes_recomendados.extend(novas_recomendacoes)\n",
    "        if len(filmes_recomendados) >= n_recomendacoes:\n",
    "            break\n",
    "    \n",
    "    return list(filmes_recomendados)[:n_recomendacoes]"
   ]
  },
  {
   "cell_type": "code",
   "execution_count": 7,
   "metadata": {},
   "outputs": [
    {
     "name": "stdout",
     "output_type": "stream",
     "text": [
      "Recomendações de filmes para o usuário 1: ['Titanic', 'Star Wars: O Império Contra-Ataca']\n"
     ]
    }
   ],
   "source": [
    "# Teste (usuário 1)\n",
    "indice_usuario = 0\n",
    "recomendacoes = recomendar_filmes(indice_usuario, n_recomendacoes=2)\n",
    "\n",
    "print(f\"Recomendações de filmes para o usuário {indice_usuario + 1}: {recomendacoes}\")"
   ]
  }
 ],
 "metadata": {
  "kernelspec": {
   "display_name": "Python 3",
   "language": "python",
   "name": "python3"
  },
  "language_info": {
   "codemirror_mode": {
    "name": "ipython",
    "version": 3
   },
   "file_extension": ".py",
   "mimetype": "text/x-python",
   "name": "python",
   "nbconvert_exporter": "python",
   "pygments_lexer": "ipython3",
   "version": "3.12.6"
  }
 },
 "nbformat": 4,
 "nbformat_minor": 2
}
